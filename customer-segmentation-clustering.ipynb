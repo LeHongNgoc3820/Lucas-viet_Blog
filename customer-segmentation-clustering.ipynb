{
 "cells": [
  {
   "cell_type": "markdown",
   "metadata": {},
   "source": [
    "# <p style=\"background-color:#682F2F;font-family:newtimeroman;color:#FFF9ED;font-size:150%;text-align:center;border-radius:10px 10px;\">Customer Segmentation</p>\n",
    "\n",
    "<img src=\"https://github.com/KarnikaKapoor/Files/blob/main/Colorful%20Handwritten%20About%20Me%20Blank%20Education%20Presentation.gif?raw=true\">\n",
    "\n",
    "\n",
    "   <a id='top'></a>\n",
    "<div class=\"list-group\" id=\"list-tab\" role=\"tablist\">\n",
    "<p style=\"background-color:#682F2F;font-family:newtimeroman;color:#FFF9ED;font-size:150%;text-align:center;border-radius:10px 10px;\">TABLE OF CONTENTS</p>   \n",
    "    \n",
    "* [1. IMPORTING LIBRARIES](#1)\n",
    "    \n",
    "* [2. LOADING DATA](#2)\n",
    "    \n",
    "* [3. DATA CLEANING](#3)\n",
    "    \n",
    "* [4. DATA PREPROCESSING](#4)   \n",
    "    \n",
    "* [5. DIMENSIONALITY REDUCTION](#5) \n",
    "      \n",
    "* [6. CLUSTERING](#6)\n",
    "    \n",
    "* [7. EVALUATING MODELS](#7)\n",
    "    \n",
    "* [8. PROFILING](#8)\n",
    "    \n",
    "* [9. CONCLUSION](#9)\n",
    "    \n",
    "* [10. END](#10)\n"
   ]
  },
  {
   "cell_type": "markdown",
   "metadata": {},
   "source": [
    "<a id=\"1\"></a>\n",
    "# <p style=\"background-color:#682F2F;font-family:newtimeroman;color:#FFF9ED;font-size:150%;text-align:center;border-radius:10px 10px;\">IMPORTING LIBRARIES</p>"
   ]
  },
  {
   "cell_type": "markdown",
   "metadata": {},
   "source": [
    "<a id=\"2\"></a>\n",
    "# <p style=\"background-color:#682F2F;font-family:newtimeroman;color:#FFF9ED;font-size:150%;text-align:center;border-radius:10px 10px;\">LOADING DATA</p>"
   ]
  },
  {
   "cell_type": "markdown",
   "metadata": {},
   "source": [
    "<img src=\"https://github.com/KarnikaKapoor/Files/blob/main/Colorful%20Handwritten%20About%20Me%20Blank%20Education%20Presentation.png?raw=true\">\n",
    "\n",
    "For more information on the attributes visit [here](https://www.kaggle.com/imakash3011/customer-personality-analysis).\n",
    "\n",
    "<a id=\"3\"></a>\n",
    "# <p style=\"background-color:#682F2F;font-family:newtimeroman;color:#FFF9ED;font-size:150%;text-align:center;border-radius:10px 10px;\">DATA CLEANING</p>\n",
    "\n",
    "\n",
    "**In this section** \n",
    "* Data Cleaning\n",
    "* Feature Engineering \n",
    "\n",
    "In order to, get a full grasp of what steps should I be taking to clean the dataset. \n",
    "Let us have a look at the information in data. \n"
   ]
  },
  {
   "cell_type": "code",
   "execution_count": null,
   "metadata": {
    "execution": {
     "iopub.execute_input": "2021-10-08T04:12:15.173477Z",
     "iopub.status.busy": "2021-10-08T04:12:15.17321Z",
     "iopub.status.idle": "2021-10-08T04:12:15.198247Z",
     "shell.execute_reply": "2021-10-08T04:12:15.197443Z",
     "shell.execute_reply.started": "2021-10-08T04:12:15.173448Z"
    }
   },
   "outputs": [],
   "source": [
    "#Information on features \n",
    "data.info()"
   ]
  },
  {
   "cell_type": "markdown",
   "metadata": {},
   "source": [
    "**From the above output, we can conclude and note that:**\n",
    "\n",
    "* There are missing values in income\n",
    "* Dt_Customer that indicates the date a customer joined the database is not parsed as DateTime\n",
    "* There are some categorical features in our data frame; as there are some features in dtype: object). So we will need to encode them into numeric forms later. \n",
    "\n",
    "First of all, for the missing values, I am simply going to drop the rows that have missing income values. "
   ]
  },
  {
   "cell_type": "markdown",
   "metadata": {},
   "source": [
    "In the next step, I am going to create a feature out of **\"Dt_Customer\"** that indicates the number of days a customer is registered in the firm's database. However, in order to keep it simple, I am taking this value relative to the most recent customer in the record. \n",
    "\n",
    "Thus to get the values I must check the newest and oldest recorded dates. "
   ]
  },
  {
   "cell_type": "markdown",
   "metadata": {},
   "source": [
    "**In the next bit, I will be performing the following steps to engineer some new features:**\n",
    "\n",
    "* Extract the **\"Age\"** of a customer by the **\"Year_Birth\"** indicating the birth year of the respective person.\n",
    "* Create another feature **\"Spent\"** indicating the total amount spent by the customer in various categories over the span of two years.\n",
    "* Create another feature **\"Living_With\"** out of **\"Marital_Status\"** to extract the living situation of couples.\n",
    "* Create a feature **\"Children\"** to indicate total children in a household that is, kids and teenagers.\n",
    "* To get further clarity of household, Creating feature indicating **\"Family_Size\"**\n",
    "* Create a feature **\"Is_Parent\"** to indicate parenthood status\n",
    "* Lastly, I will create three categories in the **\"Education\"** by simplifying its value counts.\n",
    "* Dropping some of the redundant features"
   ]
  },
  {
   "cell_type": "markdown",
   "metadata": {},
   "source": [
    "Now that we have some new features let's have a look at the data's stats. "
   ]
  },
  {
   "cell_type": "code",
   "execution_count": null,
   "metadata": {
    "execution": {
     "iopub.execute_input": "2021-10-08T04:12:15.401232Z",
     "iopub.status.busy": "2021-10-08T04:12:15.400938Z",
     "iopub.status.idle": "2021-10-08T04:12:15.478487Z",
     "shell.execute_reply": "2021-10-08T04:12:15.477603Z",
     "shell.execute_reply.started": "2021-10-08T04:12:15.401193Z"
    }
   },
   "outputs": [],
   "source": [
    "data.describe()"
   ]
  },
  {
   "cell_type": "markdown",
   "metadata": {},
   "source": [
    "The above stats show some discrepancies in mean Income and Age and max Income and age.\n",
    "\n",
    "Do note that  max-age is 128 years, As I calculated the age that would be today (i.e. 2021) and the data is old.\n",
    "\n",
    "I must take a look at the broader view of the data. \n",
    "I will plot some of the selected features."
   ]
  },
  {
   "cell_type": "markdown",
   "metadata": {},
   "source": [
    "Clearly, there are a few outliers in the Income and Age features. \n",
    "I will be deleting the outliers in the data. "
   ]
  },
  {
   "cell_type": "markdown",
   "metadata": {},
   "source": [
    "Next, let us look at the correlation amongst the features. \n",
    "(Excluding the categorical attributes at this point)"
   ]
  },
  {
   "cell_type": "markdown",
   "metadata": {},
   "source": [
    "The data is quite clean and the new features have been included. I will proceed to the next step. That is, preprocessing the data. \n",
    "\n",
    "<a id=\"4\"></a>\n",
    "# <p style=\"background-color:#682F2F;font-family:newtimeroman;color:#FFF9ED;font-size:150%;text-align:center;border-radius:10px 10px;\">DATA PREPROCESSING</p>\n",
    "\n",
    "In this section, I will be preprocessing the data to perform clustering operations.\n",
    "\n",
    "**The following steps are applied to preprocess the data:**\n",
    "\n",
    "* Label encoding the categorical features\n",
    "* Scaling the features using the standard scaler \n",
    "* Creating a subset dataframe for dimensionality reduction"
   ]
  },
  {
   "cell_type": "markdown",
   "metadata": {},
   "source": [
    "<a id=\"5\"></a>\n",
    "# <p style=\"background-color:#682F2F;font-family:newtimeroman;color:#FFF9ED;font-size:150%;text-align:center;border-radius:10px 10px;\">DIMENSIONALITY REDUCTION</p>\n",
    "In this problem, there are many factors on the basis of which the final classification will be done. These factors are basically attributes or features. The higher the number of features, the harder it is to work with it. Many of these features are correlated, and hence redundant. This is why I will be performing dimensionality reduction on the selected features before putting them through a classifier.  \n",
    "*Dimensionality reduction is the process of reducing the number of random variables under consideration, by obtaining a set of principal variables.* \n",
    "\n",
    "**Principal component analysis (PCA)** is a technique for reducing the dimensionality of such datasets, increasing interpretability but at the same time minimizing information loss.\n",
    "\n",
    "**Steps in this section:**\n",
    "* Dimensionality reduction with PCA\n",
    "* Plotting the reduced dataframe\n",
    "\n",
    "**Dimensionality reduction with PCA**\n",
    "\n",
    "For this project, I will be reducing the dimensions to 3."
   ]
  },
  {
   "cell_type": "markdown",
   "metadata": {},
   "source": [
    "<a id=\"6\"></a>\n",
    "# <p style=\"background-color:#682F2F;font-family:newtimeroman;color:#FFF9ED;font-size:150%;text-align:center;border-radius:10px 10px;\">CLUSTERING</p>\n",
    "\n",
    "Now that I have reduced the attributes to three dimensions, I will be performing clustering via Agglomerative clustering. Agglomerative clustering is a hierarchical clustering method.  It involves merging examples until the desired number of clusters is achieved.\n",
    "\n",
    "**Steps involved in the Clustering**\n",
    "* Elbow Method to determine the number of clusters to be formed\n",
    "* Clustering via Agglomerative Clustering\n",
    "* Examining the clusters formed via scatter plot"
   ]
  },
  {
   "cell_type": "markdown",
   "metadata": {},
   "source": [
    "<a id=\"7\"></a>\n",
    "# <p style=\"background-color:#682F2F;font-family:newtimeroman;color:#FFF9ED;font-size:150%;text-align:center;border-radius:10px 10px;\">EVALUATING MODELS</p>\n",
    "\n",
    "Since this is an unsupervised clustering. We do not have a tagged feature to evaluate or score our model. The purpose of this section is to study the patterns in the clusters formed and determine the nature of the clusters' patterns. \n",
    "\n",
    "For that, we will be having a look at the data in light of clusters via exploratory data analysis and drawing conclusions. \n",
    "\n",
    "**Firstly, let us have a look at the group distribution of clustring**"
   ]
  },
  {
   "cell_type": "markdown",
   "metadata": {},
   "source": [
    "<a id=\"8\"></a>\n",
    "# <p style=\"background-color:#682F2F;font-family:newtimeroman;color:#FFF9ED;font-size:150%;text-align:center;border-radius:10px 10px;\">PROFILING</p>\n",
    "\n",
    "Now that we have formed the clusters and looked at their purchasing habits. \n",
    "Let us see who all are there in these clusters. For that, we will be profiling the clusters formed and come to a conclusion about who is our star customer and who needs more attention from the retail store's marketing team.\n",
    "\n",
    "To decide that I will be plotting some of the features that are indicative of the customer's personal traits in light of the cluster they are in. \n",
    "On the basis of the outcomes, I will be arriving at the conclusions. "
   ]
  },
  {
   "cell_type": "markdown",
   "metadata": {},
   "source": [
    "<a id=\"9\"></a>\n",
    "# <p style=\"background-color:#682F2F;font-family:newtimeroman;color:#FFF9ED;font-size:150%;text-align:center;border-radius:10px 10px;\">CONCLUSION</p>\n",
    "\n",
    "\n",
    "**<span style=\"color:#682F2F;\"> If you liked this Notebook, please do upvote.</span>**\n",
    "\n",
    "**<span style=\"color:#682F2F;\">If you have any questions, feel free to comment!</span>**\n",
    "\n",
    "**<span style=\"color:#682F2F;\"> Best Wishes!</span>**\n",
    "\n",
    "<a id=\"10\"></a>\n",
    "# <p style=\"background-color:#682F2F;font-family:newtimeroman;color:#FFF9ED;font-size:150%;text-align:center;border-radius:10px 10px;\">END</p>"
   ]
  },
  {
   "cell_type": "markdown",
   "metadata": {},
   "source": [
    "<p style=\"background-color:#034235;font-family:newtimeroman;color:#ffe7a0;font-size:150%;text-align:center;border-radius:10px 10px;\">Lucas viết Blog</p>\n",
    "\n",
    "_____\n",
    "<img src=\"https://github.com/LeHongNgoc3820/Lucas_viet_Blog/blob/b5e2de5a812292889e793b719572d06f3ababf2d/Logo%20ta%CC%81ch%20ne%CC%82%CC%80n.png?raw=true\"\n",
    "     style=\"width:200px;height:200px;\">\n",
    "\n",
    "**<span style=\"color:#034235;\"> You can contact with me on:</span>**\n",
    "\n",
    "+ **Gmail**: lehongngoc.work@gmail.com\n",
    "+ **GitHub**: https://github.com/LeHongNgoc3820\n",
    "+ **Linkedln**: https://www.linkedin.com/in/ngoc-le-hong-44131b21a/\n",
    "\n",
    "_____\n",
    "_Make by_**<span style=\"color:#034235;\"> Lucas,</span>**\n",
    "_____\n",
    "\n",
    "\n",
    "[website]: https://github.com/LeHongNgoc3820\n",
    "[gmail]: lehongngoc.work@gmail.com\n",
    "[linkedln]: https://www.linkedin.com/in/ngoc-le-hong-44131b21a/\n",
    "\n",
    "[<img align=\"left\" width=\"40px\" src=\"https://github.com/LeHongNgoc3820/Lucas_viet_Blog/blob/main/web1.jpg?raw=true\" />][website]\n",
    "[<img align=\"left\" width=\"40px\" src=\"https://github.com/LeHongNgoc3820/Lucas_viet_Blog/blob/main/linkedln1.svg?raw=false\" />][linkedln]\n",
    "\n"
   ]
  },
  {
   "cell_type": "code",
   "execution_count": null,
   "metadata": {},
   "outputs": [],
   "source": []
  }
 ],
 "metadata": {
  "kernelspec": {
   "display_name": "Python 3 (ipykernel)",
   "language": "python",
   "name": "python3"
  },
  "language_info": {
   "codemirror_mode": {
    "name": "ipython",
    "version": 3
   },
   "file_extension": ".py",
   "mimetype": "text/x-python",
   "name": "python",
   "nbconvert_exporter": "python",
   "pygments_lexer": "ipython3",
   "version": "3.9.15"
  }
 },
 "nbformat": 4,
 "nbformat_minor": 4
}
