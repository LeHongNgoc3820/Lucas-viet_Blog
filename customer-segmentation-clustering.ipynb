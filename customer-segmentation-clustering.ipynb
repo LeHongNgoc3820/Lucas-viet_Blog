{
 "cells": [
  {
   "cell_type": "markdown",
   "metadata": {},
   "source": [
    "<p style=\"background-color:#034235;font-family:newtimeroman;color:#ffe7a0;font-size:150%;text-align:center;border-radius:10px 10px;\">Lucas viết Blog</p>\n",
    "\n",
    "_____\n",
    "<p align=\"center\">\n",
    "<img src=\"https://github.com/LeHongNgoc3820/Lucas_viet_Blog/blob/b5e2de5a812292889e793b719572d06f3ababf2d/Logo%20ta%CC%81ch%20ne%CC%82%CC%80n.png?raw=true\"\n",
    "     style=\"width:200px;height:200px;\" display = \"block;\">\n",
    "</p>\n",
    "<img src=\"https://github.com/LeHongNgoc3820/Lucas_viet_Blog/blob/b5e2de5a812292889e793b719572d06f3ababf2d/Logo%20ta%CC%81ch%20ne%CC%82%CC%80n.png?raw=true\"\n",
    "     style=\"width:200px;height:200px;\">\n",
    "\n",
    "**<span style=\"color:#034235;\"> You can contact with me on:</span>**\n",
    "\n",
    "+ **Gmail**: lehongngoc.work@gmail.com\n",
    "+ **GitHub**: [LeHongNgoc3820](https://github.com/LeHongNgoc3820)\n",
    "+ **Linkedln**: [Ngoc Le Hong](https://www.linkedin.com/in/ngoc-le-hong-44131b21a/)\n",
    "\n",
    "_____\n",
    "_Make by_**<span style=\"color:#034235;\"> Lucas,</span>**\n",
    "_____"
   ]
  },
  {
   "cell_type": "code",
   "execution_count": null,
   "metadata": {},
   "outputs": [],
   "source": []
  }
 ],
 "metadata": {
  "kernelspec": {
   "display_name": "Python 3 (ipykernel)",
   "language": "python",
   "name": "python3"
  },
  "language_info": {
   "codemirror_mode": {
    "name": "ipython",
    "version": 3
   },
   "file_extension": ".py",
   "mimetype": "text/x-python",
   "name": "python",
   "nbconvert_exporter": "python",
   "pygments_lexer": "ipython3",
   "version": "3.9.15"
  }
 },
 "nbformat": 4,
 "nbformat_minor": 4
}
